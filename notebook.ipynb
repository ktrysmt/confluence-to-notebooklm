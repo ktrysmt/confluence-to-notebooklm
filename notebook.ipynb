# %%
# 必要なライブラリのインストール
!pip install requests beautifulsoup4

# %%
# 環境変数の設定 (実際の値に置き換えてください)
CONFLUENCE_URL = "https://your-confluence-domain.atlassian.net"
SPACE_KEY = "YOUR_SPACE_KEY"
API_TOKEN = "YOUR_API_TOKEN"
GEMINI_API_URL = "https://gemini.example.com/v1/import"
GEMINI_API_KEY = "YOUR_GEMINI_API_KEY"
OUTPUT_DIR = "./markdown_files"
ROOT_PAGE_ID = "123456789"

# %%
# confluence_to_markdown.py の内容
import os
import requests
from bs4 import BeautifulSoup

def get_page_content(page_id):
    """Confluenceのページ内容を取得"""
    url = f"{CONFLUENCE_URL}/rest/api/content/{page_id}?expand=body.storage"
    headers = {
        "Authorization": f"Bearer {API_TOKEN}",
        "Content-Type": "application/json"
    }
    response = requests.get(url, headers=headers)
    return response.json()

def convert_html_to_markdown(html_content):
    """HTMLをMarkdownに変換（簡易処理）"""
    soup = BeautifulSoup(html_content, "html.parser")
    text = soup.get_text(separator="
", strip=True)
    # さらに高度な変換が必要な場合はhtml2textライブラリを使用推奨
    return text

def export_pages(root_page_id):
    """指定されたルートページからサブページを再帰的にエクスポート"""
    os.makedirs(OUTPUT_DIR, exist_ok=True)

    # ルートページの内容を取得
    root_data = get_page_content(root_page_id)
    root_title = root_data["title"]
    root_html = root_data["body"]["storage"]["value"]
    root_markdown = convert_html_to_markdown(root_html)

    # ルートページを保存
    with open(f"{OUTPUT_DIR}/{root_title}.md", "w") as f:
        f.write(f"# {root_title}

{root_markdown}")
    print(f"Exported: {root_title}")

    # サブページを再帰的に処理
    children_url = f"{CONFLUENCE_URL}/rest/api/content?spaceKey={SPACE_KEY}&ancestor={root_page_id}"
    children_response = requests.get(
        children_url, headers={"Authorization": f"Bearer {API_TOKEN}"})
    for child in children_response.json().get("results", []):
        export_pages(child["id"])\

# スクリプトの実行
export_pages(ROOT_PAGE_ID)

# %%
# markdown_to_gemini.py の内容
import os
import json
import requests

def read_markdown_files():
    """Markdownファイルを読み込み、Gemini用のJSON形式に変換"""
    documents = []
    for filename in os.listdir(OUTPUT_DIR):
        if filename.endswith(".md"):\
            with open(os.path.join(OUTPUT_DIR, filename), "r") as f:\
                content = f.read()\
                title = content.split("
")[0].replace("# ", "")  # 最初の見出しをタイトルとして使用\
                documents.append({"title": title, "content": content, "metadata": {"source": "Confluence"}})\
    return documents

def send_to_gemini(documents):
    """Gemini APIにデータを送信"""
    headers = {
        "Authorization": f"Bearer {GEMINI_API_KEY}",
        "Content-Type": "application/json"
    }
    response = requests.post(
        GEMINI_API_URL,
        headers=headers,
        json={"documents": documents}
    )
    return response.json()

# スクリプトの実行
documents = read_markdown_files()
if documents:
    result = send_to_gemini(documents)
    print("Geminiへの送信結果:", result)
else:
    print("Markdownファイルが見つかりませんでした。")

# %%
# 定期的な実行 (例: 1時間ごとに実行)
import time

while True:
    # confluence_to_markdown.py の実行
    export_pages(ROOT_PAGE_ID)

    # markdown_to_gemini.py の実行
    documents = read_markdown_files()
    if documents:
        result = send_to_gemini(documents)
        print("Geminiへの送信結果:", result)
    else:
        print("Markdownファイルが見つかりませんでした。")

    print("1時間スリープします...")
    time.sleep(3600)  # 1時間スリープ

